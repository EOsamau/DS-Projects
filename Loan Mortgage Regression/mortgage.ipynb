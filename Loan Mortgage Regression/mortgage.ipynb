{
 "cells": [
  {
   "cell_type": "markdown",
   "metadata": {},
   "source": [
    "### Predicting Outstanding Loan Balance at any given Observation Time\n",
    "\n",
    "This project aims to analyze borrower behavior and loan performance using financial datasets to develop a predictive model. The dataset includes a variety of borrower, loan, and macroeconomic factors, such as loan-to-value ratios, interest rates, house price indices, and credit scores, which influence loan repayment dynamics over time. The primary goal is to use regression to predict the outstanding loan balance at any given observation time. By identifying the key factors that affect the loan balance, this model could help financial institutions better understand loan risk profiles and enhance their decision-making regarding borrower management and loan performance assessment."
   ]
  },
  {
   "cell_type": "code",
   "execution_count": 38,
   "metadata": {},
   "outputs": [],
   "source": [
    "#Libraries\n",
    "import pandas as pd\n",
    "import plotly.express as px\n",
    "import matplotlib.pyplot as plt\n",
    "import warnings"
   ]
  },
  {
   "cell_type": "code",
   "execution_count": 39,
   "metadata": {},
   "outputs": [
    {
     "data": {
      "text/html": [
       "<div>\n",
       "<style scoped>\n",
       "    .dataframe tbody tr th:only-of-type {\n",
       "        vertical-align: middle;\n",
       "    }\n",
       "\n",
       "    .dataframe tbody tr th {\n",
       "        vertical-align: top;\n",
       "    }\n",
       "\n",
       "    .dataframe thead th {\n",
       "        text-align: right;\n",
       "    }\n",
       "</style>\n",
       "<table border=\"1\" class=\"dataframe\">\n",
       "  <thead>\n",
       "    <tr style=\"text-align: right;\">\n",
       "      <th></th>\n",
       "      <th>id</th>\n",
       "      <th>time</th>\n",
       "      <th>orig_time</th>\n",
       "      <th>first_time</th>\n",
       "      <th>mat_time</th>\n",
       "      <th>balance_time</th>\n",
       "      <th>LTV_time</th>\n",
       "      <th>interest_rate_time</th>\n",
       "      <th>hpi_time</th>\n",
       "      <th>gdp_time</th>\n",
       "      <th>...</th>\n",
       "      <th>REtype_SF_orig_time</th>\n",
       "      <th>investor_orig_time</th>\n",
       "      <th>balance_orig_time</th>\n",
       "      <th>FICO_orig_time</th>\n",
       "      <th>LTV_orig_time</th>\n",
       "      <th>Interest_Rate_orig_time</th>\n",
       "      <th>hpi_orig_time</th>\n",
       "      <th>default_time</th>\n",
       "      <th>payoff_time</th>\n",
       "      <th>status_time</th>\n",
       "    </tr>\n",
       "  </thead>\n",
       "  <tbody>\n",
       "    <tr>\n",
       "      <th>0</th>\n",
       "      <td>1</td>\n",
       "      <td>25</td>\n",
       "      <td>-7</td>\n",
       "      <td>25</td>\n",
       "      <td>113</td>\n",
       "      <td>41303.42</td>\n",
       "      <td>24.498336</td>\n",
       "      <td>9.2</td>\n",
       "      <td>226.29</td>\n",
       "      <td>2.899137</td>\n",
       "      <td>...</td>\n",
       "      <td>1</td>\n",
       "      <td>0</td>\n",
       "      <td>45000.0</td>\n",
       "      <td>715</td>\n",
       "      <td>69.4</td>\n",
       "      <td>9.2</td>\n",
       "      <td>87.03</td>\n",
       "      <td>0</td>\n",
       "      <td>0</td>\n",
       "      <td>0</td>\n",
       "    </tr>\n",
       "    <tr>\n",
       "      <th>1</th>\n",
       "      <td>1</td>\n",
       "      <td>26</td>\n",
       "      <td>-7</td>\n",
       "      <td>25</td>\n",
       "      <td>113</td>\n",
       "      <td>41061.95</td>\n",
       "      <td>24.483867</td>\n",
       "      <td>9.2</td>\n",
       "      <td>225.10</td>\n",
       "      <td>2.151365</td>\n",
       "      <td>...</td>\n",
       "      <td>1</td>\n",
       "      <td>0</td>\n",
       "      <td>45000.0</td>\n",
       "      <td>715</td>\n",
       "      <td>69.4</td>\n",
       "      <td>9.2</td>\n",
       "      <td>87.03</td>\n",
       "      <td>0</td>\n",
       "      <td>0</td>\n",
       "      <td>0</td>\n",
       "    </tr>\n",
       "    <tr>\n",
       "      <th>2</th>\n",
       "      <td>1</td>\n",
       "      <td>27</td>\n",
       "      <td>-7</td>\n",
       "      <td>25</td>\n",
       "      <td>113</td>\n",
       "      <td>40804.42</td>\n",
       "      <td>24.626795</td>\n",
       "      <td>9.2</td>\n",
       "      <td>222.39</td>\n",
       "      <td>2.361722</td>\n",
       "      <td>...</td>\n",
       "      <td>1</td>\n",
       "      <td>0</td>\n",
       "      <td>45000.0</td>\n",
       "      <td>715</td>\n",
       "      <td>69.4</td>\n",
       "      <td>9.2</td>\n",
       "      <td>87.03</td>\n",
       "      <td>0</td>\n",
       "      <td>0</td>\n",
       "      <td>0</td>\n",
       "    </tr>\n",
       "    <tr>\n",
       "      <th>3</th>\n",
       "      <td>1</td>\n",
       "      <td>28</td>\n",
       "      <td>-7</td>\n",
       "      <td>25</td>\n",
       "      <td>113</td>\n",
       "      <td>40483.89</td>\n",
       "      <td>24.735883</td>\n",
       "      <td>9.2</td>\n",
       "      <td>219.67</td>\n",
       "      <td>1.229172</td>\n",
       "      <td>...</td>\n",
       "      <td>1</td>\n",
       "      <td>0</td>\n",
       "      <td>45000.0</td>\n",
       "      <td>715</td>\n",
       "      <td>69.4</td>\n",
       "      <td>9.2</td>\n",
       "      <td>87.03</td>\n",
       "      <td>0</td>\n",
       "      <td>0</td>\n",
       "      <td>0</td>\n",
       "    </tr>\n",
       "    <tr>\n",
       "      <th>4</th>\n",
       "      <td>1</td>\n",
       "      <td>29</td>\n",
       "      <td>-7</td>\n",
       "      <td>25</td>\n",
       "      <td>113</td>\n",
       "      <td>40367.06</td>\n",
       "      <td>24.925476</td>\n",
       "      <td>9.2</td>\n",
       "      <td>217.37</td>\n",
       "      <td>1.692969</td>\n",
       "      <td>...</td>\n",
       "      <td>1</td>\n",
       "      <td>0</td>\n",
       "      <td>45000.0</td>\n",
       "      <td>715</td>\n",
       "      <td>69.4</td>\n",
       "      <td>9.2</td>\n",
       "      <td>87.03</td>\n",
       "      <td>0</td>\n",
       "      <td>0</td>\n",
       "      <td>0</td>\n",
       "    </tr>\n",
       "  </tbody>\n",
       "</table>\n",
       "<p>5 rows × 23 columns</p>\n",
       "</div>"
      ],
      "text/plain": [
       "   id  time  orig_time  first_time  mat_time  balance_time   LTV_time  \\\n",
       "0   1    25         -7          25       113      41303.42  24.498336   \n",
       "1   1    26         -7          25       113      41061.95  24.483867   \n",
       "2   1    27         -7          25       113      40804.42  24.626795   \n",
       "3   1    28         -7          25       113      40483.89  24.735883   \n",
       "4   1    29         -7          25       113      40367.06  24.925476   \n",
       "\n",
       "   interest_rate_time  hpi_time  gdp_time  ...  REtype_SF_orig_time  \\\n",
       "0                 9.2    226.29  2.899137  ...                    1   \n",
       "1                 9.2    225.10  2.151365  ...                    1   \n",
       "2                 9.2    222.39  2.361722  ...                    1   \n",
       "3                 9.2    219.67  1.229172  ...                    1   \n",
       "4                 9.2    217.37  1.692969  ...                    1   \n",
       "\n",
       "   investor_orig_time  balance_orig_time  FICO_orig_time  LTV_orig_time  \\\n",
       "0                   0            45000.0             715           69.4   \n",
       "1                   0            45000.0             715           69.4   \n",
       "2                   0            45000.0             715           69.4   \n",
       "3                   0            45000.0             715           69.4   \n",
       "4                   0            45000.0             715           69.4   \n",
       "\n",
       "   Interest_Rate_orig_time  hpi_orig_time  default_time  payoff_time  \\\n",
       "0                      9.2          87.03             0            0   \n",
       "1                      9.2          87.03             0            0   \n",
       "2                      9.2          87.03             0            0   \n",
       "3                      9.2          87.03             0            0   \n",
       "4                      9.2          87.03             0            0   \n",
       "\n",
       "   status_time  \n",
       "0            0  \n",
       "1            0  \n",
       "2            0  \n",
       "3            0  \n",
       "4            0  \n",
       "\n",
       "[5 rows x 23 columns]"
      ]
     },
     "execution_count": 39,
     "metadata": {},
     "output_type": "execute_result"
    }
   ],
   "source": [
    "df = pd.read_csv('mortgage.csv')\n",
    "df.head()"
   ]
  },
  {
   "cell_type": "markdown",
   "metadata": {},
   "source": [
    "#### Preparing and Feature Engineering\n",
    "\n",
    "The data set mortgage is in panel form and reports origination and performance observations for 50,000 residential U.S. mortgage borrowers over 60 periods. The periods have been identified. As in the real world, loans may originate before the start of the observation period \n",
    "(this is an issue where loans are transferred between banks and investors as in securitization)."
   ]
  },
  {
   "cell_type": "code",
   "execution_count": 40,
   "metadata": {},
   "outputs": [
    {
     "name": "stdout",
     "output_type": "stream",
     "text": [
      "Empty DataFrame\n",
      "Columns: [id, time, orig_time, first_time, mat_time, balance_time, LTV_time, interest_rate_time, hpi_time, gdp_time, uer_time, REtype_CO_orig_time, REtype_PU_orig_time, REtype_SF_orig_time, investor_orig_time, balance_orig_time, FICO_orig_time, LTV_orig_time, Interest_Rate_orig_time, hpi_orig_time, default_time, payoff_time, status_time, time_check]\n",
      "Index: []\n",
      "\n",
      "[0 rows x 24 columns]\n",
      "All time variables follow a logical progression.\n"
     ]
    }
   ],
   "source": [
    "# Checking if any rows violate the logical progression of time\n",
    "df['time_check'] = (df['first_time'] > df['time']) | \\\n",
    "                   (df['orig_time'] > df['time']) | \\\n",
    "                   (df['time'] > df['mat_time'])\n",
    "\n",
    "# Display rows with problematic time sequences\n",
    "problematic_rows = df[df['time_check']]\n",
    "print(problematic_rows)\n",
    "\n",
    "if problematic_rows.empty:\n",
    "    print(\"All time variables follow a logical progression.\")\n",
    "else:\n",
    "    print(f\"There are {len(problematic_rows)} rows with time progression issues.\")\n"
   ]
  },
  {
   "cell_type": "code",
   "execution_count": 41,
   "metadata": {},
   "outputs": [
    {
     "name": "stdout",
     "output_type": "stream",
     "text": [
      "0 rows have unrealistic values.\n"
     ]
    }
   ],
   "source": [
    "# Flag any unrealistic values\n",
    "df['unrealistic_balance_flag'] = df['balance_time'].apply(lambda x: 1 if x < 0 else 0)\n",
    "df['unrealistic_LTV_flag'] = df['LTV_time'].apply(lambda x: 1 if x < 0 else 0)\n",
    "df['unrealistic_interest_rate_flag'] = df['interest_rate_time'].apply(lambda x: 1 if x < 0 or x > 40 else 0)\n",
    "\n",
    "# Check how many rows have unrealistic values\n",
    "unrealistic_rows = df[(df['unrealistic_balance_flag'] == 1) | \n",
    "                      (df['unrealistic_LTV_flag'] == 1) | \n",
    "                      (df['unrealistic_interest_rate_flag'] == 1)]\n",
    "\n",
    "print(f\"{len(unrealistic_rows)} rows have unrealistic values.\")"
   ]
  },
  {
   "cell_type": "markdown",
   "metadata": {},
   "source": [
    "#### Outlier detection"
   ]
  },
  {
   "cell_type": "code",
   "execution_count": 42,
   "metadata": {},
   "outputs": [
    {
     "data": {
      "image/png": "[encoded data removed]",
      "text/plain": [
       "<Figure size 640x480 with 1 Axes>"
      ]
     },
     "metadata": {},
     "output_type": "display_data"
    },
    {
     "data": {
      "image/png": "[encoded data removed]",
      "text/plain": [
       "<Figure size 640x480 with 1 Axes>"
      ]
     },
     "metadata": {},
     "output_type": "display_data"
    },
    {
     "data": {
      "image/png": "[encoded data removed]",
      "text/plain": [
       "<Figure size 640x480 with 1 Axes>"
      ]
     },
     "metadata": {},
     "output_type": "display_data"
    }
   ],
   "source": [
    "# Plot distribution for balance_time\n",
    "plt.hist(df['balance_time'], bins=50)\n",
    "plt.title('Distribution of Balance at Observation Time')\n",
    "plt.xlabel('Balance')\n",
    "plt.ylabel('Frequency')\n",
    "plt.show()\n",
    "\n",
    "# Plot distribution for LTV_time\n",
    "plt.hist(df['LTV_time'], bins=50)\n",
    "plt.title('Distribution of Loan-to-Value Ratio at Observation Time')\n",
    "plt.xlabel('LTV (%)')\n",
    "plt.ylabel('Frequency')\n",
    "plt.show()\n",
    "\n",
    "# Plot distribution for interest_rate_time\n",
    "plt.hist(df['interest_rate_time'], bins=50)\n",
    "plt.title('Distribution of Interest Rate at Observation Time')\n",
    "plt.xlabel('Interest Rate (%)')\n",
    "plt.ylabel('Frequency')\n",
    "plt.show()\n",
    "\n"
   ]
  },
  {
   "cell_type": "code",
   "execution_count": 43,
   "metadata": {},
   "outputs": [],
   "source": [
    "#Standardizing the predictors to aid optimization by the gradient descent algorithm\n",
    "\n",
    "from sklearn.preprocessing import StandardScaler\n",
    "\n",
    "scaler = StandardScaler()\n",
    "\n",
    "columns_to_standardize = ['balance_time', 'LTV_time', 'interest_rate_time', \n",
    "                          'hpi_time', 'gdp_time', 'uer_time']\n",
    "\n",
    "df[columns_to_standardize] = scaler.fit_transform(df[columns_to_standardize])"
   ]
  },
  {
   "cell_type": "code",
   "execution_count": 44,
   "metadata": {},
   "outputs": [
    {
     "data": {
      "text/html": [
       "<div>\n",
       "<style scoped>\n",
       "    .dataframe tbody tr th:only-of-type {\n",
       "        vertical-align: middle;\n",
       "    }\n",
       "\n",
       "    .dataframe tbody tr th {\n",
       "        vertical-align: top;\n",
       "    }\n",
       "\n",
       "    .dataframe thead th {\n",
       "        text-align: right;\n",
       "    }\n",
       "</style>\n",
       "<table border=\"1\" class=\"dataframe\">\n",
       "  <thead>\n",
       "    <tr style=\"text-align: right;\">\n",
       "      <th></th>\n",
       "      <th>id</th>\n",
       "      <th>time</th>\n",
       "      <th>orig_time</th>\n",
       "      <th>first_time</th>\n",
       "      <th>mat_time</th>\n",
       "      <th>balance_time</th>\n",
       "      <th>LTV_time</th>\n",
       "      <th>interest_rate_time</th>\n",
       "      <th>hpi_time</th>\n",
       "      <th>gdp_time</th>\n",
       "      <th>...</th>\n",
       "      <th>LTV_orig_time</th>\n",
       "      <th>Interest_Rate_orig_time</th>\n",
       "      <th>hpi_orig_time</th>\n",
       "      <th>default_time</th>\n",
       "      <th>payoff_time</th>\n",
       "      <th>status_time</th>\n",
       "      <th>time_check</th>\n",
       "      <th>unrealistic_balance_flag</th>\n",
       "      <th>unrealistic_LTV_flag</th>\n",
       "      <th>unrealistic_interest_rate_flag</th>\n",
       "    </tr>\n",
       "  </thead>\n",
       "  <tbody>\n",
       "    <tr>\n",
       "      <th>0</th>\n",
       "      <td>1</td>\n",
       "      <td>25</td>\n",
       "      <td>-7</td>\n",
       "      <td>25</td>\n",
       "      <td>113</td>\n",
       "      <td>-0.955665</td>\n",
       "      <td>-2.346122</td>\n",
       "      <td>1.201182</td>\n",
       "      <td>1.525729</td>\n",
       "      <td>0.772713</td>\n",
       "      <td>...</td>\n",
       "      <td>69.4</td>\n",
       "      <td>9.2</td>\n",
       "      <td>87.03</td>\n",
       "      <td>0</td>\n",
       "      <td>0</td>\n",
       "      <td>0</td>\n",
       "      <td>False</td>\n",
       "      <td>0</td>\n",
       "      <td>0</td>\n",
       "      <td>0</td>\n",
       "    </tr>\n",
       "    <tr>\n",
       "      <th>1</th>\n",
       "      <td>1</td>\n",
       "      <td>26</td>\n",
       "      <td>-7</td>\n",
       "      <td>25</td>\n",
       "      <td>113</td>\n",
       "      <td>-0.956792</td>\n",
       "      <td>-2.346702</td>\n",
       "      <td>1.201182</td>\n",
       "      <td>1.482692</td>\n",
       "      <td>0.392098</td>\n",
       "      <td>...</td>\n",
       "      <td>69.4</td>\n",
       "      <td>9.2</td>\n",
       "      <td>87.03</td>\n",
       "      <td>0</td>\n",
       "      <td>0</td>\n",
       "      <td>0</td>\n",
       "      <td>False</td>\n",
       "      <td>0</td>\n",
       "      <td>0</td>\n",
       "      <td>0</td>\n",
       "    </tr>\n",
       "    <tr>\n",
       "      <th>2</th>\n",
       "      <td>1</td>\n",
       "      <td>27</td>\n",
       "      <td>-7</td>\n",
       "      <td>25</td>\n",
       "      <td>113</td>\n",
       "      <td>-0.957995</td>\n",
       "      <td>-2.340978</td>\n",
       "      <td>1.201182</td>\n",
       "      <td>1.384684</td>\n",
       "      <td>0.499170</td>\n",
       "      <td>...</td>\n",
       "      <td>69.4</td>\n",
       "      <td>9.2</td>\n",
       "      <td>87.03</td>\n",
       "      <td>0</td>\n",
       "      <td>0</td>\n",
       "      <td>0</td>\n",
       "      <td>False</td>\n",
       "      <td>0</td>\n",
       "      <td>0</td>\n",
       "      <td>0</td>\n",
       "    </tr>\n",
       "    <tr>\n",
       "      <th>3</th>\n",
       "      <td>1</td>\n",
       "      <td>28</td>\n",
       "      <td>-7</td>\n",
       "      <td>25</td>\n",
       "      <td>113</td>\n",
       "      <td>-0.959491</td>\n",
       "      <td>-2.336609</td>\n",
       "      <td>1.201182</td>\n",
       "      <td>1.286314</td>\n",
       "      <td>-0.077296</td>\n",
       "      <td>...</td>\n",
       "      <td>69.4</td>\n",
       "      <td>9.2</td>\n",
       "      <td>87.03</td>\n",
       "      <td>0</td>\n",
       "      <td>0</td>\n",
       "      <td>0</td>\n",
       "      <td>False</td>\n",
       "      <td>0</td>\n",
       "      <td>0</td>\n",
       "      <td>0</td>\n",
       "    </tr>\n",
       "    <tr>\n",
       "      <th>4</th>\n",
       "      <td>1</td>\n",
       "      <td>29</td>\n",
       "      <td>-7</td>\n",
       "      <td>25</td>\n",
       "      <td>113</td>\n",
       "      <td>-0.960037</td>\n",
       "      <td>-2.329015</td>\n",
       "      <td>1.201182</td>\n",
       "      <td>1.203134</td>\n",
       "      <td>0.158775</td>\n",
       "      <td>...</td>\n",
       "      <td>69.4</td>\n",
       "      <td>9.2</td>\n",
       "      <td>87.03</td>\n",
       "      <td>0</td>\n",
       "      <td>0</td>\n",
       "      <td>0</td>\n",
       "      <td>False</td>\n",
       "      <td>0</td>\n",
       "      <td>0</td>\n",
       "      <td>0</td>\n",
       "    </tr>\n",
       "  </tbody>\n",
       "</table>\n",
       "<p>5 rows × 27 columns</p>\n",
       "</div>"
      ],
      "text/plain": [
       "   id  time  orig_time  first_time  mat_time  balance_time  LTV_time  \\\n",
       "0   1    25         -7          25       113     -0.955665 -2.346122   \n",
       "1   1    26         -7          25       113     -0.956792 -2.346702   \n",
       "2   1    27         -7          25       113     -0.957995 -2.340978   \n",
       "3   1    28         -7          25       113     -0.959491 -2.336609   \n",
       "4   1    29         -7          25       113     -0.960037 -2.329015   \n",
       "\n",
       "   interest_rate_time  hpi_time  gdp_time  ...  LTV_orig_time  \\\n",
       "0            1.201182  1.525729  0.772713  ...           69.4   \n",
       "1            1.201182  1.482692  0.392098  ...           69.4   \n",
       "2            1.201182  1.384684  0.499170  ...           69.4   \n",
       "3            1.201182  1.286314 -0.077296  ...           69.4   \n",
       "4            1.201182  1.203134  0.158775  ...           69.4   \n",
       "\n",
       "   Interest_Rate_orig_time  hpi_orig_time  default_time  payoff_time  \\\n",
       "0                      9.2          87.03             0            0   \n",
       "1                      9.2          87.03             0            0   \n",
       "2                      9.2          87.03             0            0   \n",
       "3                      9.2          87.03             0            0   \n",
       "4                      9.2          87.03             0            0   \n",
       "\n",
       "   status_time  time_check  unrealistic_balance_flag  unrealistic_LTV_flag  \\\n",
       "0            0       False                         0                     0   \n",
       "1            0       False                         0                     0   \n",
       "2            0       False                         0                     0   \n",
       "3            0       False                         0                     0   \n",
       "4            0       False                         0                     0   \n",
       "\n",
       "   unrealistic_interest_rate_flag  \n",
       "0                               0  \n",
       "1                               0  \n",
       "2                               0  \n",
       "3                               0  \n",
       "4                               0  \n",
       "\n",
       "[5 rows x 27 columns]"
      ]
     },
     "execution_count": 44,
     "metadata": {},
     "output_type": "execute_result"
    }
   ],
   "source": [
    "df.head()"
   ]
  },
  {
   "cell_type": "markdown",
   "metadata": {},
   "source": [
    "#### Preparing predictors"
   ]
  },
  {
   "cell_type": "code",
   "execution_count": 45,
   "metadata": {},
   "outputs": [],
   "source": [
    "warnings.filterwarnings(\"ignore\", category=pd.errors.SettingWithCopyWarning)\n",
    "\n",
    "\n",
    "data = df[['time', 'orig_time', 'mat_time', 'balance_time', 'LTV_time',\n",
    "            'interest_rate_time', 'hpi_time', 'gdp_time', 'uer_time',\n",
    "            'FICO_orig_time', 'status_time', 'balance_orig_time',\n",
    "            'REtype_SF_orig_time']]\n",
    "\n",
    "data['loan_age'] = data['time'] - data['orig_time'] #How long the loan has been active.\n",
    "\n",
    "data['time_to_maturity'] = data['mat_time'] - data['time'] #How much time is left until the loan matures.\n",
    "\n",
    "data['time_LTV_int'] = data['time'] * data['LTV_time'] # Interaction because LTV is dependent property value which has significant interaction with time\n",
    "\n",
    "\n"
   ]
  },
  {
   "cell_type": "markdown",
   "metadata": {},
   "source": [
    "#### Predictors and Target Variable"
   ]
  },
  {
   "cell_type": "code",
   "execution_count": 46,
   "metadata": {},
   "outputs": [
    {
     "data": {
      "text/plain": [
       "loan_age                 0\n",
       "time_to_maturity         0\n",
       "LTV_time               270\n",
       "time_LTV_int           270\n",
       "interest_rate_time       0\n",
       "hpi_time                 0\n",
       "gdp_time                 0\n",
       "uer_time                 0\n",
       "FICO_orig_time           0\n",
       "status_time              0\n",
       "balance_orig_time        0\n",
       "REtype_SF_orig_time      0\n",
       "dtype: int64"
      ]
     },
     "execution_count": 46,
     "metadata": {},
     "output_type": "execute_result"
    }
   ],
   "source": [
    "X = data[['loan_age', 'time_to_maturity', 'LTV_time', \n",
    "          'time_LTV_int', 'interest_rate_time', 'hpi_time', 'gdp_time',\n",
    "          'uer_time', 'FICO_orig_time', 'status_time','balance_orig_time',\n",
    "          'REtype_SF_orig_time']]\n",
    "\n",
    "y = data['balance_time']\n",
    "\n",
    "X.isna().sum()"
   ]
  },
  {
   "cell_type": "code",
   "execution_count": 47,
   "metadata": {},
   "outputs": [
    {
     "data": {
      "text/plain": [
       "loan_age               0\n",
       "time_to_maturity       0\n",
       "LTV_time               0\n",
       "time_LTV_int           0\n",
       "interest_rate_time     0\n",
       "hpi_time               0\n",
       "gdp_time               0\n",
       "uer_time               0\n",
       "FICO_orig_time         0\n",
       "status_time            0\n",
       "balance_orig_time      0\n",
       "REtype_SF_orig_time    0\n",
       "dtype: int64"
      ]
     },
     "execution_count": 47,
     "metadata": {},
     "output_type": "execute_result"
    }
   ],
   "source": [
    "#Using KNN to deal with the missing LTV values\n",
    "warnings.filterwarnings(\"ignore\", category=pd.errors.SettingWithCopyWarning)\n",
    "\n",
    "\n",
    "from sklearn.impute import KNNImputer\n",
    "\n",
    "imputer = KNNImputer(n_neighbors=5)\n",
    "\n",
    "X[['LTV_time']] = imputer.fit_transform(X[['LTV_time']])\n",
    "X[['time_LTV_int']] = imputer.fit_transform(X[['time_LTV_int']])\n",
    "\n",
    "X.isna().sum()\n"
   ]
  },
  {
   "cell_type": "markdown",
   "metadata": {},
   "source": [
    "#### Train-Test Split"
   ]
  },
  {
   "cell_type": "code",
   "execution_count": 48,
   "metadata": {},
   "outputs": [],
   "source": [
    "from sklearn.model_selection import train_test_split\n",
    "\n",
    "X_train, X_test, y_train, y_test = train_test_split(X, y, test_size= 0.2, random_state= 42)"
   ]
  },
  {
   "cell_type": "code",
   "execution_count": 51,
   "metadata": {},
   "outputs": [
    {
     "data": {
      "text/html": [
       "<table class=\"simpletable\">\n",
       "<caption>OLS Regression Results</caption>\n",
       "<tr>\n",
       "  <th>Dep. Variable:</th>      <td>balance_time</td>   <th>  R-squared:         </th>  <td>   0.977</td> \n",
       "</tr>\n",
       "<tr>\n",
       "  <th>Model:</th>                   <td>OLS</td>       <th>  Adj. R-squared:    </th>  <td>   0.977</td> \n",
       "</tr>\n",
       "<tr>\n",
       "  <th>Method:</th>             <td>Least Squares</td>  <th>  F-statistic:       </th>  <td>1.788e+06</td>\n",
       "</tr>\n",
       "<tr>\n",
       "  <th>Date:</th>             <td>Sat, 07 Sep 2024</td> <th>  Prob (F-statistic):</th>   <td>  0.00</td>  \n",
       "</tr>\n",
       "<tr>\n",
       "  <th>Time:</th>                 <td>12:00:53</td>     <th>  Log-Likelihood:    </th> <td>2.3812e+05</td>\n",
       "</tr>\n",
       "<tr>\n",
       "  <th>No. Observations:</th>      <td>497991</td>      <th>  AIC:               </th> <td>-4.762e+05</td>\n",
       "</tr>\n",
       "<tr>\n",
       "  <th>Df Residuals:</th>          <td>497978</td>      <th>  BIC:               </th> <td>-4.761e+05</td>\n",
       "</tr>\n",
       "<tr>\n",
       "  <th>Df Model:</th>              <td>    12</td>      <th>                     </th>      <td> </td>    \n",
       "</tr>\n",
       "<tr>\n",
       "  <th>Covariance Type:</th>      <td>nonrobust</td>    <th>                     </th>      <td> </td>    \n",
       "</tr>\n",
       "</table>\n",
       "<table class=\"simpletable\">\n",
       "<tr>\n",
       "           <td></td>              <th>coef</th>     <th>std err</th>      <th>t</th>      <th>P>|t|</th>  <th>[0.025</th>    <th>0.975]</th>  \n",
       "</tr>\n",
       "<tr>\n",
       "  <th>const</th>               <td>   -1.2739</td> <td>    0.003</td> <td> -426.381</td> <td> 0.000</td> <td>   -1.280</td> <td>   -1.268</td>\n",
       "</tr>\n",
       "<tr>\n",
       "  <th>loan_age</th>            <td>    0.0002</td> <td> 2.81e-05</td> <td>    8.718</td> <td> 0.000</td> <td>    0.000</td> <td>    0.000</td>\n",
       "</tr>\n",
       "<tr>\n",
       "  <th>time_to_maturity</th>    <td>    0.0013</td> <td> 1.42e-05</td> <td>   92.050</td> <td> 0.000</td> <td>    0.001</td> <td>    0.001</td>\n",
       "</tr>\n",
       "<tr>\n",
       "  <th>LTV_time</th>            <td>   -0.0506</td> <td>    0.001</td> <td>  -58.192</td> <td> 0.000</td> <td>   -0.052</td> <td>   -0.049</td>\n",
       "</tr>\n",
       "<tr>\n",
       "  <th>time_LTV_int</th>        <td>    0.0030</td> <td> 2.16e-05</td> <td>  140.491</td> <td> 0.000</td> <td>    0.003</td> <td>    0.003</td>\n",
       "</tr>\n",
       "<tr>\n",
       "  <th>interest_rate_time</th>  <td>    0.0120</td> <td>    0.000</td> <td>   46.932</td> <td> 0.000</td> <td>    0.011</td> <td>    0.012</td>\n",
       "</tr>\n",
       "<tr>\n",
       "  <th>hpi_time</th>            <td>    0.0239</td> <td>    0.000</td> <td>   60.050</td> <td> 0.000</td> <td>    0.023</td> <td>    0.025</td>\n",
       "</tr>\n",
       "<tr>\n",
       "  <th>gdp_time</th>            <td>   -0.0042</td> <td>    0.000</td> <td>  -16.273</td> <td> 0.000</td> <td>   -0.005</td> <td>   -0.004</td>\n",
       "</tr>\n",
       "<tr>\n",
       "  <th>uer_time</th>            <td>   -0.0124</td> <td>    0.000</td> <td>  -31.329</td> <td> 0.000</td> <td>   -0.013</td> <td>   -0.012</td>\n",
       "</tr>\n",
       "<tr>\n",
       "  <th>FICO_orig_time</th>      <td>-2.214e-05</td> <td>  3.4e-06</td> <td>   -6.503</td> <td> 0.000</td> <td>-2.88e-05</td> <td>-1.55e-05</td>\n",
       "</tr>\n",
       "<tr>\n",
       "  <th>status_time</th>         <td>   -0.0078</td> <td>    0.001</td> <td>  -15.535</td> <td> 0.000</td> <td>   -0.009</td> <td>   -0.007</td>\n",
       "</tr>\n",
       "<tr>\n",
       "  <th>balance_orig_time</th>   <td> 4.471e-06</td> <td> 1.06e-09</td> <td> 4201.655</td> <td> 0.000</td> <td> 4.47e-06</td> <td> 4.47e-06</td>\n",
       "</tr>\n",
       "<tr>\n",
       "  <th>REtype_SF_orig_time</th> <td>   -0.0037</td> <td>    0.000</td> <td>   -8.376</td> <td> 0.000</td> <td>   -0.005</td> <td>   -0.003</td>\n",
       "</tr>\n",
       "</table>\n",
       "<table class=\"simpletable\">\n",
       "<tr>\n",
       "  <th>Omnibus:</th>       <td>924781.654</td> <th>  Durbin-Watson:     </th>    <td>   1.999</td>   \n",
       "</tr>\n",
       "<tr>\n",
       "  <th>Prob(Omnibus):</th>   <td> 0.000</td>   <th>  Jarque-Bera (JB):  </th> <td>5497706652.323</td>\n",
       "</tr>\n",
       "<tr>\n",
       "  <th>Skew:</th>            <td>-13.499</td>  <th>  Prob(JB):          </th>    <td>    0.00</td>   \n",
       "</tr>\n",
       "<tr>\n",
       "  <th>Kurtosis:</th>        <td>517.029</td>  <th>  Cond. No.          </th>    <td>4.74e+06</td>   \n",
       "</tr>\n",
       "</table><br/><br/>Notes:<br/>[1] Standard Errors assume that the covariance matrix of the errors is correctly specified.<br/>[2] The condition number is large, 4.74e+06. This might indicate that there are<br/>strong multicollinearity or other numerical problems."
      ],
      "text/latex": [
       "\\begin{center}\n",
       "\\begin{tabular}{lclc}\n",
       "\\toprule\n",
       "\\textbf{Dep. Variable:}         &  balance\\_time   & \\textbf{  R-squared:         } &       0.977     \\\\\n",
       "\\textbf{Model:}                 &       OLS        & \\textbf{  Adj. R-squared:    } &       0.977     \\\\\n",
       "\\textbf{Method:}                &  Least Squares   & \\textbf{  F-statistic:       } &   1.788e+06     \\\\\n",
       "\\textbf{Date:}                  & Sat, 07 Sep 2024 & \\textbf{  Prob (F-statistic):} &       0.00      \\\\\n",
       "\\textbf{Time:}                  &     12:00:53     & \\textbf{  Log-Likelihood:    } &   2.3812e+05    \\\\\n",
       "\\textbf{No. Observations:}      &      497991      & \\textbf{  AIC:               } &   -4.762e+05    \\\\\n",
       "\\textbf{Df Residuals:}          &      497978      & \\textbf{  BIC:               } &   -4.761e+05    \\\\\n",
       "\\textbf{Df Model:}              &          12      & \\textbf{                     } &                 \\\\\n",
       "\\textbf{Covariance Type:}       &    nonrobust     & \\textbf{                     } &                 \\\\\n",
       "\\bottomrule\n",
       "\\end{tabular}\n",
       "\\begin{tabular}{lcccccc}\n",
       "                                & \\textbf{coef} & \\textbf{std err} & \\textbf{t} & \\textbf{P$> |$t$|$} & \\textbf{[0.025} & \\textbf{0.975]}  \\\\\n",
       "\\midrule\n",
       "\\textbf{const}                  &      -1.2739  &        0.003     &  -426.381  &         0.000        &       -1.280    &       -1.268     \\\\\n",
       "\\textbf{loan\\_age}              &       0.0002  &     2.81e-05     &     8.718  &         0.000        &        0.000    &        0.000     \\\\\n",
       "\\textbf{time\\_to\\_maturity}     &       0.0013  &     1.42e-05     &    92.050  &         0.000        &        0.001    &        0.001     \\\\\n",
       "\\textbf{LTV\\_time}              &      -0.0506  &        0.001     &   -58.192  &         0.000        &       -0.052    &       -0.049     \\\\\n",
       "\\textbf{time\\_LTV\\_int}         &       0.0030  &     2.16e-05     &   140.491  &         0.000        &        0.003    &        0.003     \\\\\n",
       "\\textbf{interest\\_rate\\_time}   &       0.0120  &        0.000     &    46.932  &         0.000        &        0.011    &        0.012     \\\\\n",
       "\\textbf{hpi\\_time}              &       0.0239  &        0.000     &    60.050  &         0.000        &        0.023    &        0.025     \\\\\n",
       "\\textbf{gdp\\_time}              &      -0.0042  &        0.000     &   -16.273  &         0.000        &       -0.005    &       -0.004     \\\\\n",
       "\\textbf{uer\\_time}              &      -0.0124  &        0.000     &   -31.329  &         0.000        &       -0.013    &       -0.012     \\\\\n",
       "\\textbf{FICO\\_orig\\_time}       &   -2.214e-05  &      3.4e-06     &    -6.503  &         0.000        &    -2.88e-05    &    -1.55e-05     \\\\\n",
       "\\textbf{status\\_time}           &      -0.0078  &        0.001     &   -15.535  &         0.000        &       -0.009    &       -0.007     \\\\\n",
       "\\textbf{balance\\_orig\\_time}    &    4.471e-06  &     1.06e-09     &  4201.655  &         0.000        &     4.47e-06    &     4.47e-06     \\\\\n",
       "\\textbf{REtype\\_SF\\_orig\\_time} &      -0.0037  &        0.000     &    -8.376  &         0.000        &       -0.005    &       -0.003     \\\\\n",
       "\\bottomrule\n",
       "\\end{tabular}\n",
       "\\begin{tabular}{lclc}\n",
       "\\textbf{Omnibus:}       & 924781.654 & \\textbf{  Durbin-Watson:     } &       1.999     \\\\\n",
       "\\textbf{Prob(Omnibus):} &    0.000   & \\textbf{  Jarque-Bera (JB):  } & 5497706652.323  \\\\\n",
       "\\textbf{Skew:}          &  -13.499   & \\textbf{  Prob(JB):          } &        0.00     \\\\\n",
       "\\textbf{Kurtosis:}      &  517.029   & \\textbf{  Cond. No.          } &    4.74e+06     \\\\\n",
       "\\bottomrule\n",
       "\\end{tabular}\n",
       "%\\caption{OLS Regression Results}\n",
       "\\end{center}\n",
       "\n",
       "Notes: \\newline\n",
       " [1] Standard Errors assume that the covariance matrix of the errors is correctly specified. \\newline\n",
       " [2] The condition number is large, 4.74e+06. This might indicate that there are \\newline\n",
       " strong multicollinearity or other numerical problems."
      ],
      "text/plain": [
       "<class 'statsmodels.iolib.summary.Summary'>\n",
       "\"\"\"\n",
       "                            OLS Regression Results                            \n",
       "==============================================================================\n",
       "Dep. Variable:           balance_time   R-squared:                       0.977\n",
       "Model:                            OLS   Adj. R-squared:                  0.977\n",
       "Method:                 Least Squares   F-statistic:                 1.788e+06\n",
       "Date:                Sat, 07 Sep 2024   Prob (F-statistic):               0.00\n",
       "Time:                        12:00:53   Log-Likelihood:             2.3812e+05\n",
       "No. Observations:              497991   AIC:                        -4.762e+05\n",
       "Df Residuals:                  497978   BIC:                        -4.761e+05\n",
       "Df Model:                          12                                         \n",
       "Covariance Type:            nonrobust                                         \n",
       "=======================================================================================\n",
       "                          coef    std err          t      P>|t|      [0.025      0.975]\n",
       "---------------------------------------------------------------------------------------\n",
       "const                  -1.2739      0.003   -426.381      0.000      -1.280      -1.268\n",
       "loan_age                0.0002   2.81e-05      8.718      0.000       0.000       0.000\n",
       "time_to_maturity        0.0013   1.42e-05     92.050      0.000       0.001       0.001\n",
       "LTV_time               -0.0506      0.001    -58.192      0.000      -0.052      -0.049\n",
       "time_LTV_int            0.0030   2.16e-05    140.491      0.000       0.003       0.003\n",
       "interest_rate_time      0.0120      0.000     46.932      0.000       0.011       0.012\n",
       "hpi_time                0.0239      0.000     60.050      0.000       0.023       0.025\n",
       "gdp_time               -0.0042      0.000    -16.273      0.000      -0.005      -0.004\n",
       "uer_time               -0.0124      0.000    -31.329      0.000      -0.013      -0.012\n",
       "FICO_orig_time      -2.214e-05    3.4e-06     -6.503      0.000   -2.88e-05   -1.55e-05\n",
       "status_time            -0.0078      0.001    -15.535      0.000      -0.009      -0.007\n",
       "balance_orig_time    4.471e-06   1.06e-09   4201.655      0.000    4.47e-06    4.47e-06\n",
       "REtype_SF_orig_time    -0.0037      0.000     -8.376      0.000      -0.005      -0.003\n",
       "==============================================================================\n",
       "Omnibus:                   924781.654   Durbin-Watson:                   1.999\n",
       "Prob(Omnibus):                  0.000   Jarque-Bera (JB):       5497706652.323\n",
       "Skew:                         -13.499   Prob(JB):                         0.00\n",
       "Kurtosis:                     517.029   Cond. No.                     4.74e+06\n",
       "==============================================================================\n",
       "\n",
       "Notes:\n",
       "[1] Standard Errors assume that the covariance matrix of the errors is correctly specified.\n",
       "[2] The condition number is large, 4.74e+06. This might indicate that there are\n",
       "strong multicollinearity or other numerical problems.\n",
       "\"\"\""
      ]
     },
     "execution_count": 51,
     "metadata": {},
     "output_type": "execute_result"
    }
   ],
   "source": [
    "import numpy as np\n",
    "import statsmodels.api as sm\n",
    "\n",
    "# Add a constant term for the intercept\n",
    "X_train_sm = sm.add_constant(X_train)\n",
    "\n",
    "# Fit the model using statsmodels for detailed summary\n",
    "model_1 = sm.OLS(y_train, X_train_sm).fit()\n",
    "\n",
    "model_1.summary()"
   ]
  },
  {
   "cell_type": "markdown",
   "metadata": {},
   "source": [
    "#### Predictions for Model 1:"
   ]
  },
  {
   "cell_type": "code",
   "execution_count": 52,
   "metadata": {},
   "outputs": [
    {
     "name": "stdout",
     "output_type": "stream",
     "text": [
      "Mean Squared Error: 0.021076428856578084\n",
      "R^2 Score: 0.9795817750400083\n"
     ]
    }
   ],
   "source": [
    "from sklearn.metrics import mean_squared_error, r2_score\n",
    "X_test = X_test\n",
    "X_test = sm.add_constant(X_test)\n",
    "y_pred = model_1.predict(X_test)\n",
    "\n",
    "# Calculate performance metrics\n",
    "mse = mean_squared_error(y_test, y_pred)\n",
    "r2 = r2_score(y_test, y_pred)\n",
    "\n",
    "print(f\"Mean Squared Error: {mse}\")\n",
    "print(f\"R^2 Score: {r2}\")"
   ]
  },
  {
   "cell_type": "code",
   "execution_count": 53,
   "metadata": {},
   "outputs": [
    {
     "name": "stdout",
     "output_type": "stream",
     "text": [
      "                feature         VIF\n",
      "0                 const  197.545441\n",
      "1              loan_age    2.397020\n",
      "2      time_to_maturity    1.977239\n",
      "3              LTV_time   16.645610\n",
      "4          time_LTV_int   15.871091\n",
      "5    interest_rate_time    1.449661\n",
      "6              hpi_time    3.515860\n",
      "7              gdp_time    1.452042\n",
      "8              uer_time    3.466706\n",
      "9        FICO_orig_time    1.320482\n",
      "10          status_time    1.017545\n",
      "11    balance_orig_time    1.202189\n",
      "12  REtype_SF_orig_time    1.022343\n"
     ]
    }
   ],
   "source": [
    "#Aiming for a simpler model by using VIF to check for multicollinearity\n",
    "from statsmodels.stats.outliers_influence import variance_inflation_factor\n",
    "\n",
    "X_vif = X_train_sm\n",
    "# Calculate VIF for each feature\n",
    "vif_data = pd.DataFrame()\n",
    "vif_data['feature'] = X_vif.columns\n",
    "vif_data['VIF'] = [variance_inflation_factor(X_vif.values, i) for i in range(X_vif.shape[1])]\n",
    "\n",
    "\n",
    "print(vif_data)"
   ]
  },
  {
   "cell_type": "markdown",
   "metadata": {},
   "source": [
    "From the VIF values it appears Loan-to-value ratio at observation and its interaction with time, House price index at observation time, and Unemployment rate at observation time are highly correlated. This is probably due to   overlapping information time and needs to be taken from the data. "
   ]
  },
  {
   "cell_type": "code",
   "execution_count": 54,
   "metadata": {},
   "outputs": [
    {
     "data": {
      "text/html": [
       "<div>\n",
       "<style scoped>\n",
       "    .dataframe tbody tr th:only-of-type {\n",
       "        vertical-align: middle;\n",
       "    }\n",
       "\n",
       "    .dataframe tbody tr th {\n",
       "        vertical-align: top;\n",
       "    }\n",
       "\n",
       "    .dataframe thead th {\n",
       "        text-align: right;\n",
       "    }\n",
       "</style>\n",
       "<table border=\"1\" class=\"dataframe\">\n",
       "  <thead>\n",
       "    <tr style=\"text-align: right;\">\n",
       "      <th></th>\n",
       "      <th>const</th>\n",
       "      <th>loan_age</th>\n",
       "      <th>time_to_maturity</th>\n",
       "      <th>interest_rate_time</th>\n",
       "      <th>gdp_time</th>\n",
       "      <th>FICO_orig_time</th>\n",
       "      <th>status_time</th>\n",
       "      <th>balance_orig_time</th>\n",
       "      <th>REtype_SF_orig_time</th>\n",
       "    </tr>\n",
       "  </thead>\n",
       "  <tbody>\n",
       "    <tr>\n",
       "      <th>162215</th>\n",
       "      <td>1.0</td>\n",
       "      <td>31</td>\n",
       "      <td>87</td>\n",
       "      <td>-1.961026</td>\n",
       "      <td>0.171034</td>\n",
       "      <td>702</td>\n",
       "      <td>0</td>\n",
       "      <td>160000.0</td>\n",
       "      <td>1</td>\n",
       "    </tr>\n",
       "    <tr>\n",
       "      <th>124699</th>\n",
       "      <td>1.0</td>\n",
       "      <td>3</td>\n",
       "      <td>118</td>\n",
       "      <td>-0.097367</td>\n",
       "      <td>0.885740</td>\n",
       "      <td>728</td>\n",
       "      <td>2</td>\n",
       "      <td>172800.0</td>\n",
       "      <td>1</td>\n",
       "    </tr>\n",
       "    <tr>\n",
       "      <th>316266</th>\n",
       "      <td>1.0</td>\n",
       "      <td>1</td>\n",
       "      <td>116</td>\n",
       "      <td>0.804403</td>\n",
       "      <td>0.499170</td>\n",
       "      <td>624</td>\n",
       "      <td>0</td>\n",
       "      <td>42000.0</td>\n",
       "      <td>1</td>\n",
       "    </tr>\n",
       "    <tr>\n",
       "      <th>268492</th>\n",
       "      <td>1.0</td>\n",
       "      <td>6</td>\n",
       "      <td>114</td>\n",
       "      <td>0.383577</td>\n",
       "      <td>0.239055</td>\n",
       "      <td>668</td>\n",
       "      <td>0</td>\n",
       "      <td>101430.0</td>\n",
       "      <td>0</td>\n",
       "    </tr>\n",
       "    <tr>\n",
       "      <th>262314</th>\n",
       "      <td>1.0</td>\n",
       "      <td>14</td>\n",
       "      <td>107</td>\n",
       "      <td>-0.518193</td>\n",
       "      <td>-2.131113</td>\n",
       "      <td>794</td>\n",
       "      <td>0</td>\n",
       "      <td>322400.0</td>\n",
       "      <td>0</td>\n",
       "    </tr>\n",
       "  </tbody>\n",
       "</table>\n",
       "</div>"
      ],
      "text/plain": [
       "        const  loan_age  time_to_maturity  interest_rate_time  gdp_time  \\\n",
       "162215    1.0        31                87           -1.961026  0.171034   \n",
       "124699    1.0         3               118           -0.097367  0.885740   \n",
       "316266    1.0         1               116            0.804403  0.499170   \n",
       "268492    1.0         6               114            0.383577  0.239055   \n",
       "262314    1.0        14               107           -0.518193 -2.131113   \n",
       "\n",
       "        FICO_orig_time  status_time  balance_orig_time  REtype_SF_orig_time  \n",
       "162215             702            0           160000.0                    1  \n",
       "124699             728            2           172800.0                    1  \n",
       "316266             624            0            42000.0                    1  \n",
       "268492             668            0           101430.0                    0  \n",
       "262314             794            0           322400.0                    0  "
      ]
     },
     "execution_count": 54,
     "metadata": {},
     "output_type": "execute_result"
    }
   ],
   "source": [
    "predictors_to_remove = ['LTV_time', 'time_LTV_int', \n",
    "                        'hpi_time', 'uer_time']\n",
    "\n",
    "X_train_sm = X_train_sm.drop(columns = predictors_to_remove)\n",
    "\n",
    "X_train_sm.head()\n",
    "\n"
   ]
  },
  {
   "cell_type": "code",
   "execution_count": 55,
   "metadata": {},
   "outputs": [
    {
     "data": {
      "text/html": [
       "<table class=\"simpletable\">\n",
       "<caption>OLS Regression Results</caption>\n",
       "<tr>\n",
       "  <th>Dep. Variable:</th>      <td>balance_time</td>   <th>  R-squared:         </th>  <td>   0.974</td> \n",
       "</tr>\n",
       "<tr>\n",
       "  <th>Model:</th>                   <td>OLS</td>       <th>  Adj. R-squared:    </th>  <td>   0.974</td> \n",
       "</tr>\n",
       "<tr>\n",
       "  <th>Method:</th>             <td>Least Squares</td>  <th>  F-statistic:       </th>  <td>2.343e+06</td>\n",
       "</tr>\n",
       "<tr>\n",
       "  <th>Date:</th>             <td>Sat, 07 Sep 2024</td> <th>  Prob (F-statistic):</th>   <td>  0.00</td>  \n",
       "</tr>\n",
       "<tr>\n",
       "  <th>Time:</th>                 <td>12:01:11</td>     <th>  Log-Likelihood:    </th> <td>2.0528e+05</td>\n",
       "</tr>\n",
       "<tr>\n",
       "  <th>No. Observations:</th>      <td>497991</td>      <th>  AIC:               </th> <td>-4.105e+05</td>\n",
       "</tr>\n",
       "<tr>\n",
       "  <th>Df Residuals:</th>          <td>497982</td>      <th>  BIC:               </th> <td>-4.104e+05</td>\n",
       "</tr>\n",
       "<tr>\n",
       "  <th>Df Model:</th>              <td>     8</td>      <th>                     </th>      <td> </td>    \n",
       "</tr>\n",
       "<tr>\n",
       "  <th>Covariance Type:</th>      <td>nonrobust</td>    <th>                     </th>      <td> </td>    \n",
       "</tr>\n",
       "</table>\n",
       "<table class=\"simpletable\">\n",
       "<tr>\n",
       "           <td></td>              <th>coef</th>     <th>std err</th>      <th>t</th>      <th>P>|t|</th>  <th>[0.025</th>    <th>0.975]</th>  \n",
       "</tr>\n",
       "<tr>\n",
       "  <th>const</th>               <td>   -1.3376</td> <td>    0.003</td> <td> -425.182</td> <td> 0.000</td> <td>   -1.344</td> <td>   -1.331</td>\n",
       "</tr>\n",
       "<tr>\n",
       "  <th>loan_age</th>            <td>   -0.0013</td> <td> 2.62e-05</td> <td>  -49.444</td> <td> 0.000</td> <td>   -0.001</td> <td>   -0.001</td>\n",
       "</tr>\n",
       "<tr>\n",
       "  <th>time_to_maturity</th>    <td>    0.0025</td> <td> 1.41e-05</td> <td>  174.213</td> <td> 0.000</td> <td>    0.002</td> <td>    0.002</td>\n",
       "</tr>\n",
       "<tr>\n",
       "  <th>interest_rate_time</th>  <td>    0.0085</td> <td>    0.000</td> <td>   31.654</td> <td> 0.000</td> <td>    0.008</td> <td>    0.009</td>\n",
       "</tr>\n",
       "<tr>\n",
       "  <th>gdp_time</th>            <td>   -0.0041</td> <td>    0.000</td> <td>  -18.050</td> <td> 0.000</td> <td>   -0.005</td> <td>   -0.004</td>\n",
       "</tr>\n",
       "<tr>\n",
       "  <th>FICO_orig_time</th>      <td>-4.345e-05</td> <td> 3.63e-06</td> <td>  -11.954</td> <td> 0.000</td> <td>-5.06e-05</td> <td>-3.63e-05</td>\n",
       "</tr>\n",
       "<tr>\n",
       "  <th>status_time</th>         <td>   -0.0119</td> <td>    0.001</td> <td>  -22.283</td> <td> 0.000</td> <td>   -0.013</td> <td>   -0.011</td>\n",
       "</tr>\n",
       "<tr>\n",
       "  <th>balance_orig_time</th>   <td> 4.455e-06</td> <td> 1.13e-09</td> <td> 3928.715</td> <td> 0.000</td> <td> 4.45e-06</td> <td> 4.46e-06</td>\n",
       "</tr>\n",
       "<tr>\n",
       "  <th>REtype_SF_orig_time</th> <td>   -0.0056</td> <td>    0.000</td> <td>  -11.958</td> <td> 0.000</td> <td>   -0.007</td> <td>   -0.005</td>\n",
       "</tr>\n",
       "</table>\n",
       "<table class=\"simpletable\">\n",
       "<tr>\n",
       "  <th>Omnibus:</th>       <td>897350.881</td> <th>  Durbin-Watson:     </th>    <td>   1.997</td>   \n",
       "</tr>\n",
       "<tr>\n",
       "  <th>Prob(Omnibus):</th>   <td> 0.000</td>   <th>  Jarque-Bera (JB):  </th> <td>4100394187.113</td>\n",
       "</tr>\n",
       "<tr>\n",
       "  <th>Skew:</th>            <td>-12.696</td>  <th>  Prob(JB):          </th>    <td>    0.00</td>   \n",
       "</tr>\n",
       "<tr>\n",
       "  <th>Kurtosis:</th>        <td>446.811</td>  <th>  Cond. No.          </th>    <td>4.67e+06</td>   \n",
       "</tr>\n",
       "</table><br/><br/>Notes:<br/>[1] Standard Errors assume that the covariance matrix of the errors is correctly specified.<br/>[2] The condition number is large, 4.67e+06. This might indicate that there are<br/>strong multicollinearity or other numerical problems."
      ],
      "text/latex": [
       "\\begin{center}\n",
       "\\begin{tabular}{lclc}\n",
       "\\toprule\n",
       "\\textbf{Dep. Variable:}         &  balance\\_time   & \\textbf{  R-squared:         } &       0.974     \\\\\n",
       "\\textbf{Model:}                 &       OLS        & \\textbf{  Adj. R-squared:    } &       0.974     \\\\\n",
       "\\textbf{Method:}                &  Least Squares   & \\textbf{  F-statistic:       } &   2.343e+06     \\\\\n",
       "\\textbf{Date:}                  & Sat, 07 Sep 2024 & \\textbf{  Prob (F-statistic):} &       0.00      \\\\\n",
       "\\textbf{Time:}                  &     12:01:11     & \\textbf{  Log-Likelihood:    } &   2.0528e+05    \\\\\n",
       "\\textbf{No. Observations:}      &      497991      & \\textbf{  AIC:               } &   -4.105e+05    \\\\\n",
       "\\textbf{Df Residuals:}          &      497982      & \\textbf{  BIC:               } &   -4.104e+05    \\\\\n",
       "\\textbf{Df Model:}              &           8      & \\textbf{                     } &                 \\\\\n",
       "\\textbf{Covariance Type:}       &    nonrobust     & \\textbf{                     } &                 \\\\\n",
       "\\bottomrule\n",
       "\\end{tabular}\n",
       "\\begin{tabular}{lcccccc}\n",
       "                                & \\textbf{coef} & \\textbf{std err} & \\textbf{t} & \\textbf{P$> |$t$|$} & \\textbf{[0.025} & \\textbf{0.975]}  \\\\\n",
       "\\midrule\n",
       "\\textbf{const}                  &      -1.3376  &        0.003     &  -425.182  &         0.000        &       -1.344    &       -1.331     \\\\\n",
       "\\textbf{loan\\_age}              &      -0.0013  &     2.62e-05     &   -49.444  &         0.000        &       -0.001    &       -0.001     \\\\\n",
       "\\textbf{time\\_to\\_maturity}     &       0.0025  &     1.41e-05     &   174.213  &         0.000        &        0.002    &        0.002     \\\\\n",
       "\\textbf{interest\\_rate\\_time}   &       0.0085  &        0.000     &    31.654  &         0.000        &        0.008    &        0.009     \\\\\n",
       "\\textbf{gdp\\_time}              &      -0.0041  &        0.000     &   -18.050  &         0.000        &       -0.005    &       -0.004     \\\\\n",
       "\\textbf{FICO\\_orig\\_time}       &   -4.345e-05  &     3.63e-06     &   -11.954  &         0.000        &    -5.06e-05    &    -3.63e-05     \\\\\n",
       "\\textbf{status\\_time}           &      -0.0119  &        0.001     &   -22.283  &         0.000        &       -0.013    &       -0.011     \\\\\n",
       "\\textbf{balance\\_orig\\_time}    &    4.455e-06  &     1.13e-09     &  3928.715  &         0.000        &     4.45e-06    &     4.46e-06     \\\\\n",
       "\\textbf{REtype\\_SF\\_orig\\_time} &      -0.0056  &        0.000     &   -11.958  &         0.000        &       -0.007    &       -0.005     \\\\\n",
       "\\bottomrule\n",
       "\\end{tabular}\n",
       "\\begin{tabular}{lclc}\n",
       "\\textbf{Omnibus:}       & 897350.881 & \\textbf{  Durbin-Watson:     } &       1.997     \\\\\n",
       "\\textbf{Prob(Omnibus):} &    0.000   & \\textbf{  Jarque-Bera (JB):  } & 4100394187.113  \\\\\n",
       "\\textbf{Skew:}          &  -12.696   & \\textbf{  Prob(JB):          } &        0.00     \\\\\n",
       "\\textbf{Kurtosis:}      &  446.811   & \\textbf{  Cond. No.          } &    4.67e+06     \\\\\n",
       "\\bottomrule\n",
       "\\end{tabular}\n",
       "%\\caption{OLS Regression Results}\n",
       "\\end{center}\n",
       "\n",
       "Notes: \\newline\n",
       " [1] Standard Errors assume that the covariance matrix of the errors is correctly specified. \\newline\n",
       " [2] The condition number is large, 4.67e+06. This might indicate that there are \\newline\n",
       " strong multicollinearity or other numerical problems."
      ],
      "text/plain": [
       "<class 'statsmodels.iolib.summary.Summary'>\n",
       "\"\"\"\n",
       "                            OLS Regression Results                            \n",
       "==============================================================================\n",
       "Dep. Variable:           balance_time   R-squared:                       0.974\n",
       "Model:                            OLS   Adj. R-squared:                  0.974\n",
       "Method:                 Least Squares   F-statistic:                 2.343e+06\n",
       "Date:                Sat, 07 Sep 2024   Prob (F-statistic):               0.00\n",
       "Time:                        12:01:11   Log-Likelihood:             2.0528e+05\n",
       "No. Observations:              497991   AIC:                        -4.105e+05\n",
       "Df Residuals:                  497982   BIC:                        -4.104e+05\n",
       "Df Model:                           8                                         \n",
       "Covariance Type:            nonrobust                                         \n",
       "=======================================================================================\n",
       "                          coef    std err          t      P>|t|      [0.025      0.975]\n",
       "---------------------------------------------------------------------------------------\n",
       "const                  -1.3376      0.003   -425.182      0.000      -1.344      -1.331\n",
       "loan_age               -0.0013   2.62e-05    -49.444      0.000      -0.001      -0.001\n",
       "time_to_maturity        0.0025   1.41e-05    174.213      0.000       0.002       0.002\n",
       "interest_rate_time      0.0085      0.000     31.654      0.000       0.008       0.009\n",
       "gdp_time               -0.0041      0.000    -18.050      0.000      -0.005      -0.004\n",
       "FICO_orig_time      -4.345e-05   3.63e-06    -11.954      0.000   -5.06e-05   -3.63e-05\n",
       "status_time            -0.0119      0.001    -22.283      0.000      -0.013      -0.011\n",
       "balance_orig_time    4.455e-06   1.13e-09   3928.715      0.000    4.45e-06    4.46e-06\n",
       "REtype_SF_orig_time    -0.0056      0.000    -11.958      0.000      -0.007      -0.005\n",
       "==============================================================================\n",
       "Omnibus:                   897350.881   Durbin-Watson:                   1.997\n",
       "Prob(Omnibus):                  0.000   Jarque-Bera (JB):       4100394187.113\n",
       "Skew:                         -12.696   Prob(JB):                         0.00\n",
       "Kurtosis:                     446.811   Cond. No.                     4.67e+06\n",
       "==============================================================================\n",
       "\n",
       "Notes:\n",
       "[1] Standard Errors assume that the covariance matrix of the errors is correctly specified.\n",
       "[2] The condition number is large, 4.67e+06. This might indicate that there are\n",
       "strong multicollinearity or other numerical problems.\n",
       "\"\"\""
      ]
     },
     "execution_count": 55,
     "metadata": {},
     "output_type": "execute_result"
    }
   ],
   "source": [
    "model_2 = sm.OLS(y_train, X_train_sm).fit()\n",
    "\n",
    "model_2.summary()"
   ]
  },
  {
   "cell_type": "markdown",
   "metadata": {},
   "source": [
    "#### Prediction for Model 2: "
   ]
  },
  {
   "cell_type": "code",
   "execution_count": 56,
   "metadata": {},
   "outputs": [
    {
     "name": "stdout",
     "output_type": "stream",
     "text": [
      "Mean Squared Error: 0.02431703535844098\n",
      "R^2 Score: 0.9764423706839807\n"
     ]
    }
   ],
   "source": [
    "from sklearn.metrics import mean_squared_error, r2_score\n",
    "\n",
    "X_test = X_test.drop(columns = ['LTV_time', 'time_LTV_int','hpi_time', 'uer_time'])\n",
    "X_test = sm.add_constant(X_test)\n",
    "y_pred = model_2.predict(X_test)\n",
    "\n",
    "# Calculate performance metrics\n",
    "mse = mean_squared_error(y_test, y_pred)\n",
    "r2 = r2_score(y_test, y_pred)\n",
    "\n",
    "print(f\"Mean Squared Error: {mse}\")\n",
    "print(f\"R^2 Score: {r2}\")"
   ]
  },
  {
   "cell_type": "markdown",
   "metadata": {},
   "source": [
    "Applying Lasso to reduce model complexity is not helpful because it effectively shrinks all coefficients to zero."
   ]
  },
  {
   "cell_type": "code",
   "execution_count": 57,
   "metadata": {},
   "outputs": [
    {
     "data": {
      "text/html": [
       "<div>\n",
       "<style scoped>\n",
       "    .dataframe tbody tr th:only-of-type {\n",
       "        vertical-align: middle;\n",
       "    }\n",
       "\n",
       "    .dataframe tbody tr th {\n",
       "        vertical-align: top;\n",
       "    }\n",
       "\n",
       "    .dataframe thead th {\n",
       "        text-align: right;\n",
       "    }\n",
       "</style>\n",
       "<table border=\"1\" class=\"dataframe\">\n",
       "  <thead>\n",
       "    <tr style=\"text-align: right;\">\n",
       "      <th></th>\n",
       "      <th>Feature</th>\n",
       "      <th>Coefficient</th>\n",
       "    </tr>\n",
       "  </thead>\n",
       "  <tbody>\n",
       "    <tr>\n",
       "      <th>0</th>\n",
       "      <td>const</td>\n",
       "      <td>0.000000</td>\n",
       "    </tr>\n",
       "    <tr>\n",
       "      <th>1</th>\n",
       "      <td>loan_age</td>\n",
       "      <td>-0.001296</td>\n",
       "    </tr>\n",
       "    <tr>\n",
       "      <th>2</th>\n",
       "      <td>time_to_maturity</td>\n",
       "      <td>0.002460</td>\n",
       "    </tr>\n",
       "    <tr>\n",
       "      <th>3</th>\n",
       "      <td>interest_rate_time</td>\n",
       "      <td>0.008512</td>\n",
       "    </tr>\n",
       "    <tr>\n",
       "      <th>4</th>\n",
       "      <td>gdp_time</td>\n",
       "      <td>-0.004135</td>\n",
       "    </tr>\n",
       "    <tr>\n",
       "      <th>5</th>\n",
       "      <td>FICO_orig_time</td>\n",
       "      <td>-0.000043</td>\n",
       "    </tr>\n",
       "    <tr>\n",
       "      <th>6</th>\n",
       "      <td>status_time</td>\n",
       "      <td>-0.011832</td>\n",
       "    </tr>\n",
       "    <tr>\n",
       "      <th>7</th>\n",
       "      <td>balance_orig_time</td>\n",
       "      <td>0.000004</td>\n",
       "    </tr>\n",
       "    <tr>\n",
       "      <th>8</th>\n",
       "      <td>REtype_SF_orig_time</td>\n",
       "      <td>-0.005585</td>\n",
       "    </tr>\n",
       "  </tbody>\n",
       "</table>\n",
       "</div>"
      ],
      "text/plain": [
       "               Feature  Coefficient\n",
       "0                const     0.000000\n",
       "1             loan_age    -0.001296\n",
       "2     time_to_maturity     0.002460\n",
       "3   interest_rate_time     0.008512\n",
       "4             gdp_time    -0.004135\n",
       "5       FICO_orig_time    -0.000043\n",
       "6          status_time    -0.011832\n",
       "7    balance_orig_time     0.000004\n",
       "8  REtype_SF_orig_time    -0.005585"
      ]
     },
     "execution_count": 57,
     "metadata": {},
     "output_type": "execute_result"
    }
   ],
   "source": [
    "from sklearn.linear_model import Lasso\n",
    "from sklearn.metrics import mean_squared_error, r2_score\n",
    "\n",
    "lasso = Lasso(alpha=0.00001)  \n",
    "\n",
    "lasso.fit(X_train_sm, y_train)\n",
    "\n",
    "coefficients = lasso.coef_\n",
    "\n",
    "coef_df = pd.DataFrame({\n",
    "    'Feature': X_train_sm.columns,\n",
    "    'Coefficient': coefficients\n",
    "})\n",
    "\n",
    "coef_df\n"
   ]
  },
  {
   "cell_type": "markdown",
   "metadata": {},
   "source": [
    "### Feature Selection for  Model Simplicity:"
   ]
  },
  {
   "cell_type": "code",
   "execution_count": 58,
   "metadata": {},
   "outputs": [
    {
     "data": {
      "text/plain": [
       "['loan_age',\n",
       " 'interest_rate_time',\n",
       " 'gdp_time',\n",
       " 'status_time',\n",
       " 'REtype_SF_orig_time']"
      ]
     },
     "execution_count": 58,
     "metadata": {},
     "output_type": "execute_result"
    }
   ],
   "source": [
    "from sklearn.feature_selection import RFE\n",
    "from sklearn.linear_model import LinearRegression, Lasso\n",
    "\n",
    "# 1. Recursive Feature Elimination\n",
    "rfe = RFE(estimator=LinearRegression(), n_features_to_select=5)\n",
    "rfe = rfe.fit(X_train_sm, y_train)\n",
    "selected_features_rfe = X_train_sm.columns[rfe.support_].tolist()\n",
    "\n",
    "selected_features_rfe"
   ]
  },
  {
   "cell_type": "code",
   "execution_count": 80,
   "metadata": {},
   "outputs": [
    {
     "ename": "ValueError",
     "evalue": "Found input variables with inconsistent numbers of samples: [497991, 497992]",
     "output_type": "error",
     "traceback": [
      "\u001b[0;31m---------------------------------------------------------------------------\u001b[0m",
      "\u001b[0;31mValueError\u001b[0m                                Traceback (most recent call last)",
      "Cell \u001b[0;32mIn[80], line 3\u001b[0m\n\u001b[1;32m      1\u001b[0m \u001b[38;5;66;03m# 2. Lasso with higher alpha\u001b[39;00m\n\u001b[1;32m      2\u001b[0m lasso \u001b[38;5;241m=\u001b[39m Lasso(alpha\u001b[38;5;241m=\u001b[39m\u001b[38;5;241m0.0001\u001b[39m)  \u001b[38;5;66;03m# Adjust alpha as needed\u001b[39;00m\n\u001b[0;32m----> 3\u001b[0m lasso\u001b[38;5;241m.\u001b[39mfit(X_train_sm, y_train)\n\u001b[1;32m      4\u001b[0m selected_features_lasso \u001b[38;5;241m=\u001b[39m X_train_sm\u001b[38;5;241m.\u001b[39mcolumns[lasso\u001b[38;5;241m.\u001b[39mcoef_ \u001b[38;5;241m!=\u001b[39m \u001b[38;5;241m0\u001b[39m]\u001b[38;5;241m.\u001b[39mtolist()\n\u001b[1;32m      6\u001b[0m selected_features_lasso\n",
      "File \u001b[0;32m/opt/anaconda3/lib/python3.11/site-packages/sklearn/linear_model/_coordinate_descent.py:908\u001b[0m, in \u001b[0;36mElasticNet.fit\u001b[0;34m(self, X, y, sample_weight, check_input)\u001b[0m\n\u001b[1;32m    906\u001b[0m \u001b[38;5;28;01mif\u001b[39;00m check_input:\n\u001b[1;32m    907\u001b[0m     X_copied \u001b[38;5;241m=\u001b[39m \u001b[38;5;28mself\u001b[39m\u001b[38;5;241m.\u001b[39mcopy_X \u001b[38;5;129;01mand\u001b[39;00m \u001b[38;5;28mself\u001b[39m\u001b[38;5;241m.\u001b[39mfit_intercept\n\u001b[0;32m--> 908\u001b[0m     X, y \u001b[38;5;241m=\u001b[39m \u001b[38;5;28mself\u001b[39m\u001b[38;5;241m.\u001b[39m_validate_data(\n\u001b[1;32m    909\u001b[0m         X,\n\u001b[1;32m    910\u001b[0m         y,\n\u001b[1;32m    911\u001b[0m         accept_sparse\u001b[38;5;241m=\u001b[39m\u001b[38;5;124m\"\u001b[39m\u001b[38;5;124mcsc\u001b[39m\u001b[38;5;124m\"\u001b[39m,\n\u001b[1;32m    912\u001b[0m         order\u001b[38;5;241m=\u001b[39m\u001b[38;5;124m\"\u001b[39m\u001b[38;5;124mF\u001b[39m\u001b[38;5;124m\"\u001b[39m,\n\u001b[1;32m    913\u001b[0m         dtype\u001b[38;5;241m=\u001b[39m[np\u001b[38;5;241m.\u001b[39mfloat64, np\u001b[38;5;241m.\u001b[39mfloat32],\n\u001b[1;32m    914\u001b[0m         copy\u001b[38;5;241m=\u001b[39mX_copied,\n\u001b[1;32m    915\u001b[0m         multi_output\u001b[38;5;241m=\u001b[39m\u001b[38;5;28;01mTrue\u001b[39;00m,\n\u001b[1;32m    916\u001b[0m         y_numeric\u001b[38;5;241m=\u001b[39m\u001b[38;5;28;01mTrue\u001b[39;00m,\n\u001b[1;32m    917\u001b[0m     )\n\u001b[1;32m    918\u001b[0m     y \u001b[38;5;241m=\u001b[39m check_array(\n\u001b[1;32m    919\u001b[0m         y, order\u001b[38;5;241m=\u001b[39m\u001b[38;5;124m\"\u001b[39m\u001b[38;5;124mF\u001b[39m\u001b[38;5;124m\"\u001b[39m, copy\u001b[38;5;241m=\u001b[39m\u001b[38;5;28;01mFalse\u001b[39;00m, dtype\u001b[38;5;241m=\u001b[39mX\u001b[38;5;241m.\u001b[39mdtype\u001b[38;5;241m.\u001b[39mtype, ensure_2d\u001b[38;5;241m=\u001b[39m\u001b[38;5;28;01mFalse\u001b[39;00m\n\u001b[1;32m    920\u001b[0m     )\n\u001b[1;32m    922\u001b[0m n_samples, n_features \u001b[38;5;241m=\u001b[39m X\u001b[38;5;241m.\u001b[39mshape\n",
      "File \u001b[0;32m/opt/anaconda3/lib/python3.11/site-packages/sklearn/base.py:584\u001b[0m, in \u001b[0;36mBaseEstimator._validate_data\u001b[0;34m(self, X, y, reset, validate_separately, **check_params)\u001b[0m\n\u001b[1;32m    582\u001b[0m         y \u001b[38;5;241m=\u001b[39m check_array(y, input_name\u001b[38;5;241m=\u001b[39m\u001b[38;5;124m\"\u001b[39m\u001b[38;5;124my\u001b[39m\u001b[38;5;124m\"\u001b[39m, \u001b[38;5;241m*\u001b[39m\u001b[38;5;241m*\u001b[39mcheck_y_params)\n\u001b[1;32m    583\u001b[0m     \u001b[38;5;28;01melse\u001b[39;00m:\n\u001b[0;32m--> 584\u001b[0m         X, y \u001b[38;5;241m=\u001b[39m check_X_y(X, y, \u001b[38;5;241m*\u001b[39m\u001b[38;5;241m*\u001b[39mcheck_params)\n\u001b[1;32m    585\u001b[0m     out \u001b[38;5;241m=\u001b[39m X, y\n\u001b[1;32m    587\u001b[0m \u001b[38;5;28;01mif\u001b[39;00m \u001b[38;5;129;01mnot\u001b[39;00m no_val_X \u001b[38;5;129;01mand\u001b[39;00m check_params\u001b[38;5;241m.\u001b[39mget(\u001b[38;5;124m\"\u001b[39m\u001b[38;5;124mensure_2d\u001b[39m\u001b[38;5;124m\"\u001b[39m, \u001b[38;5;28;01mTrue\u001b[39;00m):\n",
      "File \u001b[0;32m/opt/anaconda3/lib/python3.11/site-packages/sklearn/utils/validation.py:1124\u001b[0m, in \u001b[0;36mcheck_X_y\u001b[0;34m(X, y, accept_sparse, accept_large_sparse, dtype, order, copy, force_all_finite, ensure_2d, allow_nd, multi_output, ensure_min_samples, ensure_min_features, y_numeric, estimator)\u001b[0m\n\u001b[1;32m   1106\u001b[0m X \u001b[38;5;241m=\u001b[39m check_array(\n\u001b[1;32m   1107\u001b[0m     X,\n\u001b[1;32m   1108\u001b[0m     accept_sparse\u001b[38;5;241m=\u001b[39maccept_sparse,\n\u001b[0;32m   (...)\u001b[0m\n\u001b[1;32m   1119\u001b[0m     input_name\u001b[38;5;241m=\u001b[39m\u001b[38;5;124m\"\u001b[39m\u001b[38;5;124mX\u001b[39m\u001b[38;5;124m\"\u001b[39m,\n\u001b[1;32m   1120\u001b[0m )\n\u001b[1;32m   1122\u001b[0m y \u001b[38;5;241m=\u001b[39m _check_y(y, multi_output\u001b[38;5;241m=\u001b[39mmulti_output, y_numeric\u001b[38;5;241m=\u001b[39my_numeric, estimator\u001b[38;5;241m=\u001b[39mestimator)\n\u001b[0;32m-> 1124\u001b[0m check_consistent_length(X, y)\n\u001b[1;32m   1126\u001b[0m \u001b[38;5;28;01mreturn\u001b[39;00m X, y\n",
      "File \u001b[0;32m/opt/anaconda3/lib/python3.11/site-packages/sklearn/utils/validation.py:397\u001b[0m, in \u001b[0;36mcheck_consistent_length\u001b[0;34m(*arrays)\u001b[0m\n\u001b[1;32m    395\u001b[0m uniques \u001b[38;5;241m=\u001b[39m np\u001b[38;5;241m.\u001b[39munique(lengths)\n\u001b[1;32m    396\u001b[0m \u001b[38;5;28;01mif\u001b[39;00m \u001b[38;5;28mlen\u001b[39m(uniques) \u001b[38;5;241m>\u001b[39m \u001b[38;5;241m1\u001b[39m:\n\u001b[0;32m--> 397\u001b[0m     \u001b[38;5;28;01mraise\u001b[39;00m \u001b[38;5;167;01mValueError\u001b[39;00m(\n\u001b[1;32m    398\u001b[0m         \u001b[38;5;124m\"\u001b[39m\u001b[38;5;124mFound input variables with inconsistent numbers of samples: \u001b[39m\u001b[38;5;132;01m%r\u001b[39;00m\u001b[38;5;124m\"\u001b[39m\n\u001b[1;32m    399\u001b[0m         \u001b[38;5;241m%\u001b[39m [\u001b[38;5;28mint\u001b[39m(l) \u001b[38;5;28;01mfor\u001b[39;00m l \u001b[38;5;129;01min\u001b[39;00m lengths]\n\u001b[1;32m    400\u001b[0m     )\n",
      "\u001b[0;31mValueError\u001b[0m: Found input variables with inconsistent numbers of samples: [497991, 497992]"
     ]
    }
   ],
   "source": [
    "# 2. Lasso with higher alpha\n",
    "lasso = Lasso(alpha=0.1)  # Adjust alpha as needed\n",
    "lasso.fit(X_train_sm, y_train)\n",
    "selected_features_lasso = X_train_sm.columns[lasso.coef_ != 0].tolist()\n",
    "\n",
    "selected_features_lasso"
   ]
  },
  {
   "cell_type": "code",
   "execution_count": 60,
   "metadata": {},
   "outputs": [
    {
     "data": {
      "text/plain": [
       "['status_time',\n",
       " 'interest_rate_time',\n",
       " 'REtype_SF_orig_time',\n",
       " 'gdp_time',\n",
       " 'time_to_maturity']"
      ]
     },
     "execution_count": 60,
     "metadata": {},
     "output_type": "execute_result"
    }
   ],
   "source": [
    "# 3. Feature Importance using LinearRegression coefficients\n",
    "lr = LinearRegression()\n",
    "lr.fit(X_train_sm, y_train)\n",
    "feature_importance = pd.Series(np.abs(lr.coef_), index=X_train_sm.columns).sort_values(ascending=False)\n",
    "selected_features_importance = feature_importance.head(5).index.tolist()\n",
    "\n",
    "selected_features_importance"
   ]
  },
  {
   "cell_type": "markdown",
   "metadata": {},
   "source": [
    "### Model Evaluation -- Comparing to Model 2 (Original)"
   ]
  },
  {
   "cell_type": "code",
   "execution_count": 61,
   "metadata": {},
   "outputs": [
    {
     "name": "stdout",
     "output_type": "stream",
     "text": [
      "Model_2_VIF:\n",
      "  MSE: 0.025400\n",
      "  R2: 0.974600\n",
      "\n",
      "RFE:\n",
      "  MSE: 0.873319\n",
      "  R2: 0.126681\n",
      "  Selected Features: loan_age, interest_rate_time, gdp_time, status_time, REtype_SF_orig_time\n",
      "\n",
      "Lasso:\n",
      "  MSE: 0.025512\n",
      "  R2: 0.974488\n",
      "  Selected Features: loan_age, time_to_maturity, FICO_orig_time, balance_orig_time\n",
      "\n",
      "Feature Importance:\n",
      "  MSE: 0.871953\n",
      "  R2: 0.128047\n",
      "\n"
     ]
    }
   ],
   "source": [
    "# Function to evaluate model\n",
    "feature_columns = ['loan_age', 'time_to_maturity', 'interest_rate_time', 'gdp_time',\n",
    "                    'FICO_orig_time', 'status_time','balance_orig_time',\n",
    "                        \t'REtype_SF_orig_time']\n",
    "\n",
    "target_column = 'balance_time'\n",
    "\n",
    "X = data[feature_columns]\n",
    "y = data[target_column]\n",
    "\n",
    "\n",
    "def evaluate_model(X, y, features):\n",
    "    X_selected = X[features]\n",
    "    model = LinearRegression()\n",
    "    model.fit(X_selected, y)\n",
    "    y_pred = model.predict(X_selected)\n",
    "    mse = mean_squared_error(y, y_pred)\n",
    "    r2 = r2_score(y, y_pred)\n",
    "    return mse, r2\n",
    "\n",
    "# Evaluate each feature selection method\n",
    "results = {\n",
    "    'Model_2_VIF': evaluate_model(X, y, feature_columns),\n",
    "    'RFE': evaluate_model(X, y, selected_features_rfe),\n",
    "    'Lasso': evaluate_model(X, y, selected_features_lasso),\n",
    "    'Feature Importance': evaluate_model(X, y, selected_features_importance)\n",
    "}\n",
    "\n",
    "for method, (mse, r2) in results.items():\n",
    "    print(f\"{method}:\")\n",
    "    print(f\"  MSE: {mse:.6f}\")\n",
    "    print(f\"  R2: {r2:.6f}\")\n",
    "    if method != 'Model_2_VIF':\n",
    "        feature_var_name = f\"selected_features_{method.lower().replace(' ', '_')}\"\n",
    "        if feature_var_name in locals():\n",
    "            print(f\"  Selected Features: {', '.join(locals()[feature_var_name])}\")\n",
    "    print()"
   ]
  },
  {
   "cell_type": "markdown",
   "metadata": {},
   "source": [
    "The Lasso model will be used for better simplicity and high accuracy"
   ]
  },
  {
   "cell_type": "markdown",
   "metadata": {},
   "source": [
    "#### Model Performance Summary"
   ]
  },
  {
   "cell_type": "code",
   "execution_count": 62,
   "metadata": {},
   "outputs": [
    {
     "data": {
      "image/png": "[encoded data removed]",
      "text/plain": [
       "<Figure size 1200x600 with 2 Axes>"
      ]
     },
     "metadata": {},
     "output_type": "display_data"
    }
   ],
   "source": [
    "\n",
    "methods = list(results.keys())\n",
    "mse_values = [results[method][0] for method in methods]\n",
    "r2_values = [results[method][1] for method in methods]\n",
    "\n",
    "# Plotting MSE\n",
    "plt.figure(figsize=(12, 6))\n",
    "\n",
    "plt.subplot(1, 2, 1)\n",
    "plt.barh(methods, mse_values, color='lightblue')\n",
    "plt.xlabel('MSE')\n",
    "plt.title('Mean Squared Error by Method')\n",
    "\n",
    "# Plotting R²\n",
    "plt.subplot(1, 2, 2)\n",
    "plt.barh(methods, r2_values, color='green')\n",
    "plt.xlabel('R²')\n",
    "plt.title('R² by Method')\n",
    "\n",
    "plt.tight_layout()\n",
    "plt.show()\n"
   ]
  },
  {
   "cell_type": "markdown",
   "metadata": {},
   "source": [
    "### DIAGNOSTIC PLOTS"
   ]
  },
  {
   "cell_type": "code",
   "execution_count": 63,
   "metadata": {},
   "outputs": [
    {
     "data": {
      "image/png": "[encoded data removed]",
      "text/plain": [
       "<Figure size 1400x1000 with 5 Axes>"
      ]
     },
     "metadata": {},
     "output_type": "display_data"
    }
   ],
   "source": [
    "import numpy as np\n",
    "import matplotlib.pyplot as plt\n",
    "import seaborn as sns\n",
    "import scipy.stats as stats\n",
    "import statsmodels.api as sm\n",
    "from sklearn.linear_model import Lasso\n",
    "from sklearn.metrics import mean_squared_error, r2_score\n",
    "\n",
    "# Assuming you have already split your data into X_train_sm, X_test_sm, y_train, and y_test\n",
    "\n",
    "# Fit the Lasso model\n",
    "lasso = Lasso(alpha=0.1)\n",
    "lasso.fit(X_train_sm[['loan_age', 'time_to_maturity', 'FICO_orig_time', 'balance_orig_time']], y_train)\n",
    "\n",
    "# Predict on test data\n",
    "y_pred = lasso.predict(X_test[['loan_age', 'time_to_maturity', 'FICO_orig_time', 'balance_orig_time']])\n",
    "\n",
    "# Calculate residuals\n",
    "residuals = y_test - y_pred\n",
    "\n",
    "# Prepare the subplots\n",
    "fig, axs = plt.subplots(2, 2, figsize=(14, 10))\n",
    "\n",
    "# 1. Residuals vs. Fitted Values Plot\n",
    "axs[0, 0].scatter(y_pred, residuals, color='blue', alpha=0.5)\n",
    "axs[0, 0].axhline(0, color='red', linestyle='--')\n",
    "axs[0, 0].set_xlabel('Fitted Values')\n",
    "axs[0, 0].set_ylabel('Residuals')\n",
    "axs[0, 0].set_title('Residuals vs Fitted Values (Lasso)')\n",
    "\n",
    "# 2. Q-Q Plot\n",
    "stats.probplot(residuals, dist=\"norm\", plot=axs[0, 1])\n",
    "axs[0, 1].set_title('Q-Q Plot (Lasso)')\n",
    "\n",
    "# 3. Scale-Location Plot\n",
    "standardized_residuals = residuals / np.std(residuals)\n",
    "sqrt_abs_residuals = np.sqrt(np.abs(standardized_residuals))\n",
    "axs[1, 0].scatter(y_pred, sqrt_abs_residuals, color='blue', alpha=0.5)\n",
    "axs[1, 0].axhline(y=np.mean(sqrt_abs_residuals), color='red', linestyle='--')\n",
    "axs[1, 0].set_xlabel('Fitted Values')\n",
    "axs[1, 0].set_ylabel('Square Root of |Standardized Residuals|')\n",
    "axs[1, 0].set_title('Scale-Location Plot (Lasso)')\n",
    "\n",
    "# 4. Residuals vs. Leverage Plot\n",
    "X_test_sm_with_const = sm.add_constant(X_test)\n",
    "model = sm.OLS(y_test, X_test_sm_with_const).fit()\n",
    "influence = model.get_influence()\n",
    "leverage = influence.hat_matrix_diag\n",
    "cooks_d = influence.cooks_distance[0]\n",
    "scatter = axs[1, 1].scatter(leverage, residuals, c=cooks_d, cmap='coolwarm', alpha=0.5)\n",
    "axs[1, 1].set_xlabel('Leverage')\n",
    "axs[1, 1].set_ylabel('Residuals')\n",
    "axs[1, 1].set_title('Residuals vs Leverage Plot (Lasso)')\n",
    "fig.colorbar(scatter, ax=axs[1, 1], label='Cook\\'s Distance')\n",
    "\n",
    "# Adjust layout\n",
    "plt.tight_layout()\n",
    "plt.show()\n"
   ]
  },
  {
   "cell_type": "markdown",
   "metadata": {},
   "source": [
    "##### Cross Validation"
   ]
  },
  {
   "cell_type": "code",
   "execution_count": 64,
   "metadata": {},
   "outputs": [],
   "source": [
    "from sklearn.model_selection import cross_val_score, KFold\n",
    "from sklearn.metrics import make_scorer, mean_squared_error, r2_score"
   ]
  },
  {
   "cell_type": "code",
   "execution_count": 65,
   "metadata": {},
   "outputs": [],
   "source": [
    "def custom_scorer(estimator, X, y):\n",
    "    y_pred = estimator.predict(X)\n",
    "    mse = mean_squared_error(y, y_pred)\n",
    "    r2 = r2_score(y, y_pred)\n",
    "    return mse, r2\n"
   ]
  },
  {
   "cell_type": "code",
   "execution_count": 72,
   "metadata": {},
   "outputs": [
    {
     "name": "stdout",
     "output_type": "stream",
     "text": [
      "Mean MSE: 0.0256 ± 0.0013\n",
      "Mean R²: 0.9744 ± 0.0014\n"
     ]
    }
   ],
   "source": [
    "lasso = Lasso(alpha=0.1)\n",
    "\n",
    "\n",
    "kf = KFold(n_splits=5, shuffle=True, random_state=42)\n",
    "\n",
    "\n",
    "mse_scores = []\n",
    "r2_scores = []\n",
    "\n",
    "for train_index, test_index in kf.split(X):\n",
    "    X_train, X_test = X.iloc[train_index], X.iloc[test_index]\n",
    "    y_train, y_test = y.iloc[train_index], y.iloc[test_index]\n",
    "    \n",
    "    lasso.fit(X_train, y_train)\n",
    "    y_pred = lasso.predict(X_test)\n",
    "    \n",
    "    mse_scores.append(mean_squared_error(y_test, y_pred))\n",
    "    r2_scores.append(r2_score(y_test, y_pred))\n",
    "\n",
    "# Convert to numpy arrays for easy manipulation\n",
    "mse_scores = np.array(mse_scores)\n",
    "r2_scores = np.array(r2_scores)\n",
    "\n",
    "# Print results\n",
    "print(f\"Mean MSE: {mse_scores.mean():.4f} ± {mse_scores.std():.4f}\")\n",
    "print(f\"Mean R²: {r2_scores.mean():.4f} ± {r2_scores.std():.4f}\")\n",
    "\n"
   ]
  },
  {
   "cell_type": "markdown",
   "metadata": {},
   "source": [
    "These cross-validation results suggest that the Lasso model is performing very well"
   ]
  },
  {
   "cell_type": "markdown",
   "metadata": {},
   "source": [
    "#### Hyperparameter Tuning with GridSearchCV"
   ]
  },
  {
   "cell_type": "code",
   "execution_count": 68,
   "metadata": {},
   "outputs": [],
   "source": [
    "from sklearn.model_selection import GridSearchCV\n",
    "\n",
    "param_grid = {\n",
    "    'alpha': np.logspace(-4, 4, 50)  # Search for alpha values in the range from 0.0001 to 10000\n",
    "}\n"
   ]
  },
  {
   "cell_type": "code",
   "execution_count": 70,
   "metadata": {},
   "outputs": [
    {
     "name": "stdout",
     "output_type": "stream",
     "text": [
      "Fitting 5 folds for each of 50 candidates, totalling 250 fits\n",
      "Best Alpha: 0.0001\n",
      "Best Score (Negative MSE): -0.0261\n"
     ]
    }
   ],
   "source": [
    "# Define the Lasso model\n",
    "lasso = Lasso()\n",
    "\n",
    "# Set up GridSearchCV\n",
    "grid_search = GridSearchCV(estimator=lasso, param_grid=param_grid, \n",
    "                           scoring='neg_mean_squared_error', \n",
    "                           cv=5, n_jobs=-1, verbose=1)\n",
    "\n",
    "# Perform the grid search\n",
    "grid_search.fit(X_train, y_train)\n",
    "\n",
    "# Get the best parameters and best score\n",
    "best_params = grid_search.best_params_\n",
    "best_score = grid_search.best_score_\n",
    "\n",
    "print(f\"Best Alpha: {best_params['alpha']}\")\n",
    "print(f\"Best Score (Negative MSE): {best_score:.4f}\")\n"
   ]
  },
  {
   "cell_type": "markdown",
   "metadata": {},
   "source": [
    "### Using the best alpha for the Lasso Model"
   ]
  },
  {
   "cell_type": "code",
   "execution_count": 73,
   "metadata": {},
   "outputs": [
    {
     "name": "stdout",
     "output_type": "stream",
     "text": [
      "Mean MSE: 0.0254 ± 0.0013\n",
      "Mean R²: 0.9746 ± 0.0014\n"
     ]
    }
   ],
   "source": [
    "lasso = Lasso(alpha=0.0001)\n",
    "\n",
    "\n",
    "kf = KFold(n_splits=5, shuffle=True, random_state=42)\n",
    "\n",
    "\n",
    "mse_scores = []\n",
    "r2_scores = []\n",
    "\n",
    "for train_index, test_index in kf.split(X):\n",
    "    X_train, X_test = X.iloc[train_index], X.iloc[test_index]\n",
    "    y_train, y_test = y.iloc[train_index], y.iloc[test_index]\n",
    "    \n",
    "    lasso.fit(X_train, y_train)\n",
    "    y_pred = lasso.predict(X_test)\n",
    "    \n",
    "    mse_scores.append(mean_squared_error(y_test, y_pred))\n",
    "    r2_scores.append(r2_score(y_test, y_pred))\n",
    "\n",
    "# Convert to numpy arrays for easy manipulation\n",
    "mse_scores = np.array(mse_scores)\n",
    "r2_scores = np.array(r2_scores)\n",
    "\n",
    "# Print results\n",
    "print(f\"Mean MSE: {mse_scores.mean():.4f} ± {mse_scores.std():.4f}\")\n",
    "print(f\"Mean R²: {r2_scores.mean():.4f} ± {r2_scores.std():.4f}\")"
   ]
  },
  {
   "cell_type": "markdown",
   "metadata": {},
   "source": [
    "## OPTIMAL REGRESSION MODEL"
   ]
  },
  {
   "cell_type": "code",
   "execution_count": 81,
   "metadata": {},
   "outputs": [
    {
     "name": "stdout",
     "output_type": "stream",
     "text": [
      "Final Model Alpha: 0.0001\n",
      "Test MSE: 0.0243\n",
      "Test R²: 0.9754\n"
     ]
    }
   ],
   "source": [
    "#best_alpha = best_params['alpha']\n",
    "\n",
    "final_lasso = Lasso(alpha=0.1)\n",
    "final_lasso.fit(X_train, y_train)\n",
    "\n",
    "# Predict and evaluate on the test set\n",
    "y_pred = final_lasso.predict(X_test)\n",
    "mse = mean_squared_error(y_test, y_pred)\n",
    "r2 = r2_score(y_test, y_pred)\n",
    "\n",
    "print(f\"Final Model Alpha: {best_alpha}\")\n",
    "print(f\"Test MSE: {mse:.4f}\")\n",
    "print(f\"Test R²: {r2:.4f}\")\n"
   ]
  },
  {
   "cell_type": "code",
   "execution_count": 82,
   "metadata": {},
   "outputs": [
    {
     "name": "stdout",
     "output_type": "stream",
     "text": [
      "time_to_maturity       0.002449\n",
      "balance_orig_time      0.000004\n",
      "interest_rate_time     0.000000\n",
      "gdp_time              -0.000000\n",
      "status_time           -0.000000\n",
      "REtype_SF_orig_time   -0.000000\n",
      "FICO_orig_time        -0.000057\n",
      "loan_age              -0.000725\n",
      "dtype: float64\n"
     ]
    }
   ],
   "source": [
    "# Get coefficients\n",
    "coefficients = pd.Series(final_lasso.coef_, index=X_train.columns).sort_values(ascending=False)\n",
    "print(coefficients)"
   ]
  },
  {
   "cell_type": "code",
   "execution_count": 79,
   "metadata": {},
   "outputs": [
    {
     "name": "stdout",
     "output_type": "stream",
     "text": [
      "Selected Features: ['loan_age', 'time_to_maturity', 'interest_rate_time', 'gdp_time', 'FICO_orig_time', 'status_time', 'balance_orig_time', 'REtype_SF_orig_time']\n"
     ]
    }
   ],
   "source": [
    "# Get selected features\n",
    "selected_features = X_train.columns[final_lasso.coef_ != 0].tolist()\n",
    "print(f\"Selected Features: {selected_features}\")\n"
   ]
  },
  {
   "cell_type": "code",
   "execution_count": null,
   "metadata": {},
   "outputs": [],
   "source": []
  }
 ],
 "metadata": {
  "kernelspec": {
   "display_name": "base",
   "language": "python",
   "name": "python3"
  },
  "language_info": {
   "codemirror_mode": {
    "name": "ipython",
    "version": 3
   },
   "file_extension": ".py",
   "mimetype": "text/x-python",
   "name": "python",
   "nbconvert_exporter": "python",
   "pygments_lexer": "ipython3",
   "version": "3.11.9"
  }
 },
 "nbformat": 4,
 "nbformat_minor": 2
}
